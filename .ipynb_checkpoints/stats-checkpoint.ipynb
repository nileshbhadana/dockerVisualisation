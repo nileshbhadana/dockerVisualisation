{
 "cells": [
  {
   "cell_type": "code",
   "execution_count": null,
   "metadata": {},
   "outputs": [],
   "source": []
  },
  {
   "cell_type": "code",
   "execution_count": 1,
   "metadata": {},
   "outputs": [],
   "source": [
    "from pyspark import SparkContext,SparkConf"
   ]
  },
  {
   "cell_type": "code",
   "execution_count": 2,
   "metadata": {},
   "outputs": [],
   "source": [
    "conf = SparkConf().setAppName(\"lo\").setMaster(\"local\")"
   ]
  },
  {
   "cell_type": "code",
   "execution_count": 3,
   "metadata": {},
   "outputs": [],
   "source": [
    "sc.stop()\n",
    "sc = SparkContext(conf=conf)"
   ]
  },
  {
   "cell_type": "code",
   "execution_count": null,
   "metadata": {},
   "outputs": [],
   "source": []
  },
  {
   "cell_type": "code",
   "execution_count": null,
   "metadata": {},
   "outputs": [],
   "source": []
  },
  {
   "cell_type": "code",
   "execution_count": null,
   "metadata": {},
   "outputs": [],
   "source": []
  },
  {
   "cell_type": "code",
   "execution_count": null,
   "metadata": {},
   "outputs": [],
   "source": []
  },
  {
   "cell_type": "code",
   "execution_count": 4,
   "metadata": {},
   "outputs": [],
   "source": [
    "# [reading the file using rdd]\n",
    "rdd4 = sc.textFile(\"/home/tushar/Desktop/gitRepos/ML/show.json\")\n",
    "#rdd4.collect()"
   ]
  },
  {
   "cell_type": "code",
   "execution_count": null,
   "metadata": {},
   "outputs": [],
   "source": []
  },
  {
   "cell_type": "code",
   "execution_count": 5,
   "metadata": {
    "scrolled": false
   },
   "outputs": [],
   "source": [
    "list1=[]\n",
    "\n",
    "# splitting the rdd with comma seprated value\n",
    "rdd5 = rdd4.flatMap(lambda x: x.split(\",\"))\n",
    "\n",
    "#[Down here is to print]\n",
    "#rdd5.collect()\n"
   ]
  },
  {
   "cell_type": "code",
   "execution_count": 6,
   "metadata": {},
   "outputs": [
    {
     "name": "stdout",
     "output_type": "stream",
     "text": [
      "<class 'str'>\n",
      "[4488914976, 4488914976, 4488914976, 4488914976, 4488914976, 4488914976, 4488914976, 4605562985, 4488914976, 4627612410, 4605562985, 4628219775, 4627612410, 4628721993, 4628219775, 4628920588, 4628721993, 4628920588, 4628920588, 4628920588, 4628920588, 4628920588, 4628920588, 4629015132, 4628920588, 4629015132, 4629015132, 4629015132, 4629015132, 4629050145, 4629015132, 4629395417, 4629050145, 4488914976, 4488914976, 4488914976, 4488914976, 4488914976, 4488914976, 4488914976, 4605562985, 4488914976, 4627612410, 4605562985, 4628219775, 4627612410, 4628721993, 4628219775, 4628920588, 4628721993, 4628920588, 4628920588, 4628920588, 4628920588, 4628920588, 4628920588, 4629015132, 4628920588, 4629015132, 4629015132, 4629015132, 4629015132, 4629050145, 4629015132, 4629395417, 4629050145] <class 'int'>\n"
     ]
    }
   ],
   "source": [
    "abc=rdd5.collect()[0]\n",
    "print(type(abc))\n",
    "percu_list=[]\n",
    "\n",
    "# [calculating the percpu from rdd]\n",
    "for num in rdd5.collect():\n",
    "    if 'percpu' in num:\n",
    "        percpu=num.split(\"[\")[1]\n",
    "        percu_list.append(int(percpu))\n",
    "        #print(type(percpu))\n",
    "\n",
    "        #print(num)\n",
    "print(percu_list,type(percu_list[1]))\n",
    "\n",
    "\n",
    "        \n",
    "#print(list1)"
   ]
  },
  {
   "cell_type": "code",
   "execution_count": 7,
   "metadata": {},
   "outputs": [
    {
     "name": "stdout",
     "output_type": "stream",
     "text": [
      "[2950000000, 0, 2950000000, 2950000000, 2960000000, 2950000000, 2960000000, 2960000000, 3010000000, 2960000000, 3010000000, 3010000000, 3010000000, 3010000000, 3080000000, 3010000000, 3080000000, 3080000000, 3080000000, 3080000000, 3080000000, 3080000000, 3080000000, 3080000000, 3080000000, 3080000000, 3080000000, 3080000000, 3080000000, 3080000000, 3080000000, 3080000000, 3080000000, 3080000000, 2950000000, 0, 2950000000, 2950000000, 2960000000, 2950000000, 2960000000, 2960000000, 3010000000, 2960000000, 3010000000, 3010000000, 3010000000, 3010000000, 3080000000, 3010000000, 3080000000, 3080000000, 3080000000, 3080000000, 3080000000, 3080000000, 3080000000, 3080000000, 3080000000, 3080000000, 3080000000, 3080000000, 3080000000, 3080000000, 3080000000, 3080000000, 3080000000, 3080000000]\n"
     ]
    }
   ],
   "source": [
    "kernel_list=[]\n",
    "\n",
    "# [kernel value from rdd]\n",
    "for kernel in rdd5.collect():\n",
    "    if 'usage_in_kerne' in kernel:\n",
    "        kernel_mod=kernel.split(\":\")[1]\n",
    "        kernel_list.append(int(kernel_mod))\n",
    "print(kernel_list)"
   ]
  },
  {
   "cell_type": "code",
   "execution_count": null,
   "metadata": {},
   "outputs": [],
   "source": []
  },
  {
   "cell_type": "code",
   "execution_count": 8,
   "metadata": {},
   "outputs": [
    {
     "name": "stdout",
     "output_type": "stream",
     "text": [
      "[11255803347, 0, 11256205966, 11255803347, 11258172484, 11256205966, 11259188725, 11258172484, 11630154161, 11259188725, 11729177525, 11630154161, 11731662753, 11729177525, 12026704685, 11731662753, 12036515168, 12026704685, 12036540410, 12036515168, 12036567890, 12036540410, 12036592069, 12036567890, 12036788931, 12036592069, 12037599624, 12036788931, 12044040540, 12037599624, 12051984031, 12044040540, 12056376130, 12051984031, 11255803347, 0, 11256205966, 11255803347, 11258172484, 11256205966, 11259188725, 11258172484, 11630154161, 11259188725, 11729177525, 11630154161, 11731662753, 11729177525, 12026704685, 11731662753, 12036515168, 12026704685, 12036540410, 12036515168, 12036567890, 12036540410, 12036592069, 12036567890, 12036788931, 12036592069, 12037599624, 12036788931, 12044040540, 12037599624, 12051984031, 12044040540, 12056376130, 12051984031]\n"
     ]
    }
   ],
   "source": [
    "cpu_total=[]\n",
    "\n",
    "# this is for cpu stats\n",
    "for total in rdd5.collect():\n",
    "    if 'cpu_stats' in total:\n",
    "        total_usage=total.split(\"{\")[2].split(\":\")[1]\n",
    "        cpu_total.append(int(total_usage))\n",
    "        \n",
    "print(cpu_total)\n",
    "\n",
    "\n",
    "#total_usuage in data\n",
    "percpu_usuage=[]\n",
    "for usuage in rdd5.collect():\n",
    "    if 'percpu_' in usuage:\n",
    "        cpu_usuage=usuage.split(\":\")"
   ]
  },
  {
   "cell_type": "code",
   "execution_count": 9,
   "metadata": {},
   "outputs": [
    {
     "name": "stdout",
     "output_type": "stream",
     "text": [
      "[23534010000000, 23537910000000, 23534010000000, 23541870000000, 23537910000000, 23545870000000, 23541870000000, 23549740000000, 23545870000000, 23553570000000, 23549740000000, 23557560000000, 23553570000000, 23561530000000, 23557560000000, 23565490000000, 23561530000000, 23569430000000, 23565490000000, 23573390000000, 23569430000000, 23577410000000, 23573390000000, 23581410000000, 23577410000000, 23585410000000, 23581410000000, 23589390000000, 23585410000000, 23593360000000, 23589390000000, 23597370000000, 23593360000000, 23534010000000, 23537910000000, 23534010000000, 23541870000000, 23537910000000, 23545870000000, 23541870000000, 23549740000000, 23545870000000, 23553570000000, 23549740000000, 23557560000000, 23553570000000, 23561530000000, 23557560000000, 23565490000000, 23561530000000, 23569430000000, 23565490000000, 23573390000000, 23569430000000, 23577410000000, 23573390000000, 23581410000000, 23577410000000, 23585410000000, 23581410000000, 23589390000000, 23585410000000, 23593360000000, 23589390000000, 23597370000000, 23593360000000]\n"
     ]
    }
   ],
   "source": [
    "# system_cpu_usuage of above data\n",
    "\n",
    "system_cpu_usuage=[]\n",
    "for system in rdd5.collect():\n",
    "    if 'system_cpu_us' in system:\n",
    "        system_cpu=system.split(\":\")[1]\n",
    "        system_cpu_usuage.append(int(system_cpu))\n",
    "print(system_cpu_usuage)"
   ]
  },
  {
   "cell_type": "code",
   "execution_count": null,
   "metadata": {},
   "outputs": [],
   "source": []
  },
  {
   "cell_type": "code",
   "execution_count": 10,
   "metadata": {},
   "outputs": [
    {
     "name": "stdout",
     "output_type": "stream",
     "text": [
      "        cpuDelta  cpu_calculation  system_delta\n",
      "0  -1.125580e+10    -19048.282587  3.900000e+09\n",
      "1   1.125621e+10    -19048.963942 -3.900000e+09\n",
      "2  -4.026190e+05        -0.338077  7.860000e+09\n",
      "3   2.369137e+06        -3.948562 -3.960000e+09\n",
      "4  -1.966518e+06        -1.630530  7.960000e+09\n",
      "5   2.982759e+06        -4.921552 -4.000000e+09\n",
      "6  -1.016241e+06        -0.852248  7.870000e+09\n",
      "7   3.719817e+08      -634.387356 -3.870000e+09\n",
      "8  -3.709654e+08      -317.970374  7.700000e+09\n",
      "9   4.699888e+08      -809.902371 -3.830000e+09\n",
      "10 -9.902336e+07       -83.574706  7.820000e+09\n",
      "11  1.015086e+08      -167.908949 -3.990000e+09\n",
      "12 -2.485228e+06        -2.060616  7.960000e+09\n",
      "13  2.975272e+08      -494.629536 -3.970000e+09\n",
      "14 -2.950419e+08      -245.558228  7.930000e+09\n",
      "15  3.048524e+08      -508.087358 -3.960000e+09\n",
      "16 -9.810483e+06        -8.196100  7.900000e+09\n",
      "17  9.835725e+06       -16.476088 -3.940000e+09\n",
      "18 -2.524200e+04        -0.021088  7.900000e+09\n",
      "19  5.272200e+04        -0.087870 -3.960000e+09\n",
      "20 -2.748000e+04        -0.022728  7.980000e+09\n",
      "21  5.165900e+04        -0.084813 -4.020000e+09\n",
      "22 -2.417900e+04        -0.019898  8.020000e+09\n",
      "23  2.210410e+05        -0.364718 -4.000000e+09\n",
      "24 -1.968620e+05        -0.162411  8.000000e+09\n",
      "25  1.007555e+06        -1.662466 -4.000000e+09\n",
      "26 -8.106930e+05        -0.670498  7.980000e+09\n",
      "27  7.251609e+06       -12.025281 -3.980000e+09\n",
      "28 -6.440916e+06        -5.347176  7.950000e+09\n",
      "29  1.438441e+07       -23.913624 -3.970000e+09\n",
      "..           ...              ...           ...\n",
      "34 -1.125580e+10     19048.282587 -3.900000e+09\n",
      "35  1.125621e+10      9451.776002  7.860000e+09\n",
      "36 -4.026190e+05         0.671032 -3.960000e+09\n",
      "37  2.369137e+06         1.964360  7.960000e+09\n",
      "38 -1.966518e+06         3.244755 -4.000000e+09\n",
      "39  2.982759e+06         2.501424  7.870000e+09\n",
      "40 -1.016241e+06         1.733124 -3.870000e+09\n",
      "41  3.719817e+08       318.841437  7.700000e+09\n",
      "42 -3.709654e+08       639.261587 -3.830000e+09\n",
      "43  4.699888e+08       396.665739  7.820000e+09\n",
      "44 -9.902336e+07       163.798046 -3.990000e+09\n",
      "45  1.015086e+08        84.165415  7.960000e+09\n",
      "46 -2.485228e+06         4.131613 -3.970000e+09\n",
      "47  2.975272e+08       247.626640  7.930000e+09\n",
      "48 -2.950419e+08       491.736553 -3.960000e+09\n",
      "49  3.048524e+08       254.686828  7.900000e+09\n",
      "50 -9.810483e+06        16.433804 -3.940000e+09\n",
      "51  9.835725e+06         8.217188  7.900000e+09\n",
      "52 -2.524200e+04         0.042070 -3.960000e+09\n",
      "53  5.272200e+04         0.043605  7.980000e+09\n",
      "54 -2.748000e+04         0.045116 -4.020000e+09\n",
      "55  5.165900e+04         0.042512  8.020000e+09\n",
      "56 -2.417900e+04         0.039895 -4.000000e+09\n",
      "57  2.210410e+05         0.182359  8.000000e+09\n",
      "58 -1.968620e+05         0.324822 -4.000000e+09\n",
      "59  1.007555e+06         0.833316  7.980000e+09\n",
      "60 -8.106930e+05         1.344365 -3.980000e+09\n",
      "61  7.251609e+06         6.020204  7.950000e+09\n",
      "62 -6.440916e+06        10.707820 -3.970000e+09\n",
      "63  1.438441e+07        11.896878  7.980000e+09\n",
      "\n",
      "[64 rows x 3 columns]\n"
     ]
    }
   ],
   "source": [
    "# [Calculating the cpu delta ]\n",
    "import pandas as pd\n",
    "i=0\n",
    "\n",
    "cpu_calculation=[]\n",
    "delta_cpu=[]\n",
    "delta_system=[]\n",
    "\n",
    "try:\n",
    "#print(len(system_cpu_usuage))\n",
    "    while(i<len(system_cpu_usuage)):\n",
    "        #print(system_cpu_usuage[i+1])\n",
    "       # [calculating the delta system ]\n",
    "        if(i==len(system_cpu_usuage)-2):\n",
    "            break\n",
    "   \n",
    "        delta_system.append(float(system_cpu_usuage[i+1]) - float(system_cpu_usuage[i]))\n",
    "        system_delta = float(system_cpu_usuage[i+1]) - float(system_cpu_usuage[i])\n",
    "        \n",
    "        delta_cpu.append(float(cpu_total[i+1]) - float(cpu_total[i]))\n",
    "        cpu_delta=float(cpu_total[i+1]) - float(cpu_total[i])\n",
    "    \n",
    "        #print(len(cpu_total))\n",
    "        #print(cpu_total[i+1])\n",
    "    \n",
    "        # [making a list to make it into dataframe]\n",
    "        cpu_calculation.append((cpu_delta / system_delta) * float(len(percu_list)) * 100.0)\n",
    "    \n",
    "        cpu_percentage = (cpu_delta / system_delta) * float(len(percu_list)) * 100.0\n",
    "        #print(cpu_percentage)\n",
    "            \n",
    "        i=i+1\n",
    "        \n",
    "        \n",
    "        # [Creating dataframe for visualisation]\n",
    "        dataframe={'cpuDelta':delta_cpu,'system_delta':delta_system,'cpu_calculation':cpu_calculation}\n",
    "        df = pd.DataFrame(dataframe)\n",
    "except Exception:\n",
    "        print(\"out of bound\")\n",
    "        \n",
    "print(df)"
   ]
  },
  {
   "cell_type": "code",
   "execution_count": 11,
   "metadata": {},
   "outputs": [],
   "source": [
    "# [This is all for the graph plotting]\n",
    "\n",
    "import time\n",
    "from IPython import display\n",
    "import matplotlib.pyplot as plt\n",
    "import seaborn as sns\n",
    "\n",
    "%matplotlib inline"
   ]
  },
  {
   "cell_type": "code",
   "execution_count": null,
   "metadata": {},
   "outputs": [],
   "source": []
  },
  {
   "cell_type": "code",
   "execution_count": 12,
   "metadata": {},
   "outputs": [
    {
     "data": {
      "text/plain": [
       "'count=0\\nwhile count < 5 :\\n    time.sleep(3)\\n    display.clear_output(wait=True)\\n    plt.figure( figsize=(30,30 ) )\\n    sns.barplot(x=\"cpuDelta\",y=\"system_delta\",data=df)\\n    plt.show()\\n    count=count+1\\n'"
      ]
     },
     "execution_count": 12,
     "metadata": {},
     "output_type": "execute_result"
    }
   ],
   "source": [
    "# this is a random try !!\n",
    "\"\"\"count=0\n",
    "while count < 5 :\n",
    "    time.sleep(3)\n",
    "    display.clear_output(wait=True)\n",
    "    plt.figure( figsize=(30,30 ) )\n",
    "    sns.barplot(x=\"cpuDelta\",y=\"system_delta\",data=df)\n",
    "    plt.show()\n",
    "    count=count+1\n",
    "\"\"\""
   ]
  },
  {
   "cell_type": "code",
   "execution_count": null,
   "metadata": {},
   "outputs": [],
   "source": []
  },
  {
   "cell_type": "code",
   "execution_count": null,
   "metadata": {},
   "outputs": [],
   "source": []
  },
  {
   "cell_type": "code",
   "execution_count": null,
   "metadata": {},
   "outputs": [],
   "source": []
  },
  {
   "cell_type": "code",
   "execution_count": 13,
   "metadata": {},
   "outputs": [
    {
     "name": "stdout",
     "output_type": "stream",
     "text": [
      "0    -1.125580e+10\n",
      "1     1.125621e+10\n",
      "2    -4.026190e+05\n",
      "3     2.369137e+06\n",
      "4    -1.966518e+06\n",
      "5     2.982759e+06\n",
      "6    -1.016241e+06\n",
      "7     3.719817e+08\n",
      "8    -3.709654e+08\n",
      "9     4.699888e+08\n",
      "10   -9.902336e+07\n",
      "11    1.015086e+08\n",
      "12   -2.485228e+06\n",
      "13    2.975272e+08\n",
      "14   -2.950419e+08\n",
      "15    3.048524e+08\n",
      "16   -9.810483e+06\n",
      "17    9.835725e+06\n",
      "18   -2.524200e+04\n",
      "19    5.272200e+04\n",
      "20   -2.748000e+04\n",
      "21    5.165900e+04\n",
      "22   -2.417900e+04\n",
      "23    2.210410e+05\n",
      "24   -1.968620e+05\n",
      "25    1.007555e+06\n",
      "26   -8.106930e+05\n",
      "27    7.251609e+06\n",
      "28   -6.440916e+06\n",
      "29    1.438441e+07\n",
      "          ...     \n",
      "34   -1.125580e+10\n",
      "35    1.125621e+10\n",
      "36   -4.026190e+05\n",
      "37    2.369137e+06\n",
      "38   -1.966518e+06\n",
      "39    2.982759e+06\n",
      "40   -1.016241e+06\n",
      "41    3.719817e+08\n",
      "42   -3.709654e+08\n",
      "43    4.699888e+08\n",
      "44   -9.902336e+07\n",
      "45    1.015086e+08\n",
      "46   -2.485228e+06\n",
      "47    2.975272e+08\n",
      "48   -2.950419e+08\n",
      "49    3.048524e+08\n",
      "50   -9.810483e+06\n",
      "51    9.835725e+06\n",
      "52   -2.524200e+04\n",
      "53    5.272200e+04\n",
      "54   -2.748000e+04\n",
      "55    5.165900e+04\n",
      "56   -2.417900e+04\n",
      "57    2.210410e+05\n",
      "58   -1.968620e+05\n",
      "59    1.007555e+06\n",
      "60   -8.106930e+05\n",
      "61    7.251609e+06\n",
      "62   -6.440916e+06\n",
      "63    1.438441e+07\n",
      "Name: cpuDelta, Length: 64, dtype: float64 \n",
      "\n",
      "0     3.900000e+09\n",
      "1    -3.900000e+09\n",
      "2     7.860000e+09\n",
      "3    -3.960000e+09\n",
      "4     7.960000e+09\n",
      "5    -4.000000e+09\n",
      "6     7.870000e+09\n",
      "7    -3.870000e+09\n",
      "8     7.700000e+09\n",
      "9    -3.830000e+09\n",
      "10    7.820000e+09\n",
      "11   -3.990000e+09\n",
      "12    7.960000e+09\n",
      "13   -3.970000e+09\n",
      "14    7.930000e+09\n",
      "15   -3.960000e+09\n",
      "16    7.900000e+09\n",
      "17   -3.940000e+09\n",
      "18    7.900000e+09\n",
      "19   -3.960000e+09\n",
      "20    7.980000e+09\n",
      "21   -4.020000e+09\n",
      "22    8.020000e+09\n",
      "23   -4.000000e+09\n",
      "24    8.000000e+09\n",
      "25   -4.000000e+09\n",
      "26    7.980000e+09\n",
      "27   -3.980000e+09\n",
      "28    7.950000e+09\n",
      "29   -3.970000e+09\n",
      "          ...     \n",
      "34   -3.900000e+09\n",
      "35    7.860000e+09\n",
      "36   -3.960000e+09\n",
      "37    7.960000e+09\n",
      "38   -4.000000e+09\n",
      "39    7.870000e+09\n",
      "40   -3.870000e+09\n",
      "41    7.700000e+09\n",
      "42   -3.830000e+09\n",
      "43    7.820000e+09\n",
      "44   -3.990000e+09\n",
      "45    7.960000e+09\n",
      "46   -3.970000e+09\n",
      "47    7.930000e+09\n",
      "48   -3.960000e+09\n",
      "49    7.900000e+09\n",
      "50   -3.940000e+09\n",
      "51    7.900000e+09\n",
      "52   -3.960000e+09\n",
      "53    7.980000e+09\n",
      "54   -4.020000e+09\n",
      "55    8.020000e+09\n",
      "56   -4.000000e+09\n",
      "57    8.000000e+09\n",
      "58   -4.000000e+09\n",
      "59    7.980000e+09\n",
      "60   -3.980000e+09\n",
      "61    7.950000e+09\n",
      "62   -3.970000e+09\n",
      "63    7.980000e+09\n",
      "Name: system_delta, Length: 64, dtype: float64 \n",
      "\n",
      "\n"
     ]
    }
   ],
   "source": [
    "# taking all values from dataframe\n",
    "\n",
    "deltaCpu=df[\"cpuDelta\"]\n",
    "print(deltaCpu,\"\\n\")\n",
    "\n",
    "deltaSystem=df[\"system_delta\"]\n",
    "print(deltaSystem,\"\\n\\n\")\n",
    "\n"
   ]
  },
  {
   "cell_type": "code",
   "execution_count": null,
   "metadata": {},
   "outputs": [],
   "source": []
  },
  {
   "cell_type": "code",
   "execution_count": null,
   "metadata": {},
   "outputs": [],
   "source": []
  },
  {
   "cell_type": "code",
   "execution_count": null,
   "metadata": {},
   "outputs": [],
   "source": []
  },
  {
   "cell_type": "code",
   "execution_count": null,
   "metadata": {},
   "outputs": [],
   "source": []
  },
  {
   "cell_type": "code",
   "execution_count": 14,
   "metadata": {},
   "outputs": [
    {
     "data": {
      "image/png": "[encoded data removed]",
      "text/plain": [
       "<Figure size 432x288 with 1 Axes>"
      ]
     },
     "metadata": {
      "needs_background": "light"
     },
     "output_type": "display_data"
    }
   ],
   "source": [
    "# this is for bar graph\n",
    "\n",
    "for i in range(len(df[\"cpu_calculation\"])):\n",
    "    time.sleep(0.2)\n",
    "    #plt.xlabel(\"Inspiring bardeen container\")\n",
    "    plt.xlabel(\"CPU delta\")\n",
    "    plt.title(\"Cpu Usuage Percentage\")\n",
    "    display.clear_output(wait=True)\n",
    "    plt.ylabel(\"System Delta\")\n",
    "    x=df[\"cpuDelta\"][i]\n",
    "    y=df[\"system_delta\"][i]\n",
    "\n",
    "    #x=[\"Cont1\",\"cont2\"]\n",
    "        \n",
    "    z=df[\"cpu_calculation\"][i]\n",
    "    color=(0.2, 0.4, 0.8, 0.6)\n",
    "    plt.bar(x,y,data=z,color=color)\n",
    "    plt.show()"
   ]
  },
  {
   "cell_type": "code",
   "execution_count": 15,
   "metadata": {},
   "outputs": [
    {
     "data": {
      "image/png": "[encoded data removed]",
      "text/plain": [
       "<Figure size 1080x1080 with 1 Axes>"
      ]
     },
     "metadata": {
      "needs_background": "light"
     },
     "output_type": "display_data"
    }
   ],
   "source": [
    "# for the scatter graph\n",
    "\n",
    "\n",
    "    # [This will show the data after sometime . Have some patience buddy.]\n",
    "\n",
    "for i in range(len(df[\"cpu_calculation\"])):\n",
    "    time.sleep(0.2)\n",
    "    display.clear_output(wait=True)\n",
    "\n",
    "    plt.figure( figsize = ( 15,15 ) )\n",
    "\n",
    "    #plt.xlabel(\"Inspiring bardeen container\")\n",
    "    plt.xlabel(\"CPU delta\")\n",
    "    plt.title(\"Cpu Usuage Percentage\")\n",
    "    plt.ylabel(\"System Delta\")\n",
    "    x=df[\"cpuDelta\"][i]\n",
    "    y=df[\"system_delta\"][i]\n",
    "    \n",
    "    #x=[\"Cont1\",\"cont2\"]\n",
    "    \n",
    "    z=df[\"cpu_calculation\"][i]\n",
    "    color=['green','blue','red']\n",
    "    plt.ylim(y)\n",
    "    plt.xlim(x)\n",
    "    plt.xlim(left=0,right=2*x)\n",
    "    plt.ylim(0,2*y)\n",
    "\n",
    "    color=(0.2, 0.4, 0.8, 0.6)\n",
    "    plt.grid(True)\n",
    "\n",
    "    plt.scatter(x,y,data=z,s=z,color=color)\n",
    "    plt.show()\n",
    "    "
   ]
  },
  {
   "cell_type": "code",
   "execution_count": 16,
   "metadata": {},
   "outputs": [
    {
     "data": {
      "image/png": "[encoded data removed]",
      "text/plain": [
       "<Figure size 936x432 with 1 Axes>"
      ]
     },
     "metadata": {},
     "output_type": "display_data"
    }
   ],
   "source": [
    "# this is a try to plot a continuous monitoring graph \n",
    "plt.style.use('ggplot')\n",
    "plt.ion()\n",
    "\n",
    "fig = plt.figure(figsize=(13,6))\n",
    "ax = fig.add_subplot(111)\n",
    "        # create a variable for the line so we can later update it\n",
    "line1, = ax.plot(deltaCpu,deltaSystem,'-o',alpha=0.8)    \n",
    "plt.ylabel(\"System Delta\")\n",
    "plt.xlabel(\"cpu delta\")\n",
    "plt.title(\"Cpu Percentage\")\n",
    "\n",
    "line1.set_ydata(deltaSystem)\n",
    "plt.pause(0.5)\n"
   ]
  },
  {
   "cell_type": "code",
   "execution_count": 19,
   "metadata": {},
   "outputs": [
    {
     "data": {
      "image/png": "[encoded data removed]",
      "text/plain": [
       "<Figure size 432x288 with 1 Axes>"
      ]
     },
     "metadata": {},
     "output_type": "display_data"
    },
    {
     "data": {
      "text/plain": [
       "<Figure size 1440x864 with 0 Axes>"
      ]
     },
     "metadata": {},
     "output_type": "display_data"
    }
   ],
   "source": [
    "df.plot(kind='scatter',x='cpuDelta',y='system_delta')\n",
    "plt.figure(figsize=(20,12))\n",
    "plt.show()"
   ]
  },
  {
   "cell_type": "code",
   "execution_count": null,
   "metadata": {},
   "outputs": [],
   "source": []
  },
  {
   "cell_type": "code",
   "execution_count": null,
   "metadata": {},
   "outputs": [],
   "source": []
  },
  {
   "cell_type": "code",
   "execution_count": null,
   "metadata": {},
   "outputs": [],
   "source": []
  },
  {
   "cell_type": "code",
   "execution_count": null,
   "metadata": {},
   "outputs": [],
   "source": []
  },
  {
   "cell_type": "code",
   "execution_count": null,
   "metadata": {},
   "outputs": [],
   "source": []
  },
  {
   "cell_type": "code",
   "execution_count": null,
   "metadata": {},
   "outputs": [],
   "source": []
  },
  {
   "cell_type": "code",
   "execution_count": null,
   "metadata": {},
   "outputs": [],
   "source": []
  },
  {
   "cell_type": "code",
   "execution_count": null,
   "metadata": {},
   "outputs": [],
   "source": []
  },
  {
   "cell_type": "code",
   "execution_count": null,
   "metadata": {},
   "outputs": [],
   "source": []
  },
  {
   "cell_type": "code",
   "execution_count": null,
   "metadata": {},
   "outputs": [],
   "source": []
  },
  {
   "cell_type": "code",
   "execution_count": null,
   "metadata": {},
   "outputs": [],
   "source": []
  },
  {
   "cell_type": "code",
   "execution_count": null,
   "metadata": {},
   "outputs": [],
   "source": []
  },
  {
   "cell_type": "code",
   "execution_count": null,
   "metadata": {},
   "outputs": [],
   "source": []
  },
  {
   "cell_type": "code",
   "execution_count": null,
   "metadata": {},
   "outputs": [],
   "source": []
  },
  {
   "cell_type": "code",
   "execution_count": null,
   "metadata": {},
   "outputs": [],
   "source": []
  },
  {
   "cell_type": "code",
   "execution_count": null,
   "metadata": {},
   "outputs": [],
   "source": []
  },
  {
   "cell_type": "code",
   "execution_count": null,
   "metadata": {},
   "outputs": [],
   "source": []
  },
  {
   "cell_type": "code",
   "execution_count": null,
   "metadata": {},
   "outputs": [],
   "source": []
  },
  {
   "cell_type": "code",
   "execution_count": null,
   "metadata": {},
   "outputs": [],
   "source": []
  },
  {
   "cell_type": "code",
   "execution_count": null,
   "metadata": {},
   "outputs": [],
   "source": []
  }
 ],
 "metadata": {
  "kernelspec": {
   "display_name": "Python 3",
   "language": "python",
   "name": "python3"
  },
  "language_info": {
   "codemirror_mode": {
    "name": "ipython",
    "version": 3
   },
   "file_extension": ".py",
   "mimetype": "text/x-python",
   "name": "python",
   "nbconvert_exporter": "python",
   "pygments_lexer": "ipython3",
   "version": "3.5.2"
  }
 },
 "nbformat": 4,
 "nbformat_minor": 2
}
