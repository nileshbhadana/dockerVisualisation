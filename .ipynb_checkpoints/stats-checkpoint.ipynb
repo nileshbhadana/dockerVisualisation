{
 "cells": [
  {
   "cell_type": "code",
   "execution_count": null,
   "metadata": {},
   "outputs": [],
   "source": []
  },
  {
   "cell_type": "code",
   "execution_count": null,
   "metadata": {},
   "outputs": [],
   "source": [
    "from pyspark import SparkContext,SparkConf"
   ]
  },
  {
   "cell_type": "code",
   "execution_count": null,
   "metadata": {},
   "outputs": [],
   "source": [
    "conf = SparkConf().setAppName(\"lo\").setMaster(\"local\")"
   ]
  },
  {
   "cell_type": "code",
   "execution_count": null,
   "metadata": {},
   "outputs": [],
   "source": [
    "sc.stop()\n",
    "sc = SparkContext(conf=conf)"
   ]
  },
  {
   "cell_type": "code",
   "execution_count": null,
   "metadata": {},
   "outputs": [],
   "source": []
  },
  {
   "cell_type": "code",
   "execution_count": null,
   "metadata": {},
   "outputs": [],
   "source": []
  },
  {
   "cell_type": "code",
   "execution_count": null,
   "metadata": {},
   "outputs": [],
   "source": []
  },
  {
   "cell_type": "code",
   "execution_count": null,
   "metadata": {},
   "outputs": [],
   "source": []
  },
  {
   "cell_type": "code",
   "execution_count": null,
   "metadata": {},
   "outputs": [],
   "source": [
    "# [reading the file using rdd]\n",
    "rdd4 = sc.textFile(\"/home/tushar/Desktop/gitRepos/ML/show.json\")\n",
    "#rdd4.collect()"
   ]
  },
  {
   "cell_type": "code",
   "execution_count": null,
   "metadata": {},
   "outputs": [],
   "source": []
  },
  {
   "cell_type": "code",
   "execution_count": null,
   "metadata": {
    "scrolled": false
   },
   "outputs": [],
   "source": [
    "list1=[]\n",
    "\n",
    "# splitting the rdd with comma seprated value\n",
    "rdd5 = rdd4.flatMap(lambda x: x.split(\",\"))\n",
    "\n",
    "#[Down here is to print]\n",
    "#rdd5.collect()\n"
   ]
  },
  {
   "cell_type": "code",
   "execution_count": null,
   "metadata": {},
   "outputs": [],
   "source": [
    "abc=rdd5.collect()[0]\n",
    "print(type(abc))\n",
    "percu_list=[]\n",
    "\n",
    "# [calculating the percpu from rdd]\n",
    "for num in rdd5.collect():\n",
    "    if 'percpu' in num:\n",
    "        percpu=num.split(\"[\")[1]\n",
    "        percu_list.append(int(percpu))\n",
    "        #print(type(percpu))\n",
    "\n",
    "        #print(num)\n",
    "print(percu_list,type(percu_list[1]))\n",
    "\n",
    "\n",
    "        \n",
    "#print(list1)"
   ]
  },
  {
   "cell_type": "code",
   "execution_count": null,
   "metadata": {},
   "outputs": [],
   "source": [
    "kernel_list=[]\n",
    "\n",
    "# [kernel value from rdd]\n",
    "for kernel in rdd5.collect():\n",
    "    if 'usage_in_kerne' in kernel:\n",
    "        kernel_mod=kernel.split(\":\")[1]\n",
    "        kernel_list.append(int(kernel_mod))\n",
    "print(kernel_list)"
   ]
  },
  {
   "cell_type": "code",
   "execution_count": null,
   "metadata": {},
   "outputs": [],
   "source": []
  },
  {
   "cell_type": "code",
   "execution_count": null,
   "metadata": {},
   "outputs": [],
   "source": [
    "cpu_total=[]\n",
    "\n",
    "# this is for cpu stats\n",
    "for total in rdd5.collect():\n",
    "    if 'cpu_stats' in total:\n",
    "        total_usage=total.split(\"{\")[2].split(\":\")[1]\n",
    "        cpu_total.append(int(total_usage))\n",
    "        \n",
    "print(cpu_total)\n",
    "\n",
    "\n",
    "#total_usuage in data\n",
    "percpu_usuage=[]\n",
    "for usuage in rdd5.collect():\n",
    "    if 'percpu_' in usuage:\n",
    "        cpu_usuage=usuage.split(\":\")"
   ]
  },
  {
   "cell_type": "code",
   "execution_count": null,
   "metadata": {},
   "outputs": [],
   "source": [
    "# system_cpu_usuage of above data\n",
    "\n",
    "system_cpu_usuage=[]\n",
    "for system in rdd5.collect():\n",
    "    if 'system_cpu_us' in system:\n",
    "        system_cpu=system.split(\":\")[1]\n",
    "        system_cpu_usuage.append(int(system_cpu))\n",
    "print(system_cpu_usuage)"
   ]
  },
  {
   "cell_type": "code",
   "execution_count": null,
   "metadata": {},
   "outputs": [],
   "source": []
  },
  {
   "cell_type": "code",
   "execution_count": null,
   "metadata": {},
   "outputs": [],
   "source": [
    "# [Calculating the cpu delta ]\n",
    "import pandas as pd\n",
    "i=0\n",
    "\n",
    "cpu_calculation=[]\n",
    "delta_cpu=[]\n",
    "delta_system=[]\n",
    "\n",
    "try:\n",
    "#print(len(system_cpu_usuage))\n",
    "    while(i<len(system_cpu_usuage)):\n",
    "        #print(system_cpu_usuage[i+1])\n",
    "       # [calculating the delta system ]\n",
    "        if(i==len(system_cpu_usuage)-2):\n",
    "            break\n",
    "   \n",
    "        delta_system.append(float(system_cpu_usuage[i+1]) - float(system_cpu_usuage[i]))\n",
    "        system_delta = float(system_cpu_usuage[i+1]) - float(system_cpu_usuage[i])\n",
    "        \n",
    "        delta_cpu.append(float(cpu_total[i+1]) - float(cpu_total[i]))\n",
    "        cpu_delta=float(cpu_total[i+1]) - float(cpu_total[i])\n",
    "    \n",
    "        #print(len(cpu_total))\n",
    "        #print(cpu_total[i+1])\n",
    "    \n",
    "        # [making a list to make it into dataframe]\n",
    "        cpu_calculation.append((cpu_delta / system_delta) * float(len(percu_list)) * 100.0)\n",
    "    \n",
    "        cpu_percentage = (cpu_delta / system_delta) * float(len(percu_list)) * 100.0\n",
    "        #print(cpu_percentage)\n",
    "            \n",
    "        i=i+1\n",
    "        \n",
    "        \n",
    "        # [Creating dataframe for visualisation]\n",
    "        dataframe={'cpuDelta':delta_cpu,'system_delta':delta_system,'cpu_calculation':cpu_calculation}\n",
    "        df = pd.DataFrame(dataframe)\n",
    "except Exception:\n",
    "        print(\"out of bound\")\n",
    "        \n",
    "print(df)"
   ]
  },
  {
   "cell_type": "code",
   "execution_count": null,
   "metadata": {},
   "outputs": [],
   "source": [
    "# [This is all for the graph plotting]\n",
    "\n",
    "import time\n",
    "from IPython import display\n",
    "import matplotlib.pyplot as plt\n",
    "import seaborn as sns\n",
    "\n",
    "%matplotlib inline"
   ]
  },
  {
   "cell_type": "code",
   "execution_count": null,
   "metadata": {},
   "outputs": [],
   "source": []
  },
  {
   "cell_type": "code",
   "execution_count": null,
   "metadata": {},
   "outputs": [],
   "source": [
    "count=0\n",
    "while count < 5 :\n",
    "    time.sleep(3)\n",
    "    display.clear_output(wait=True)\n",
    "    plt.figure( figsize=(30,12 ) )\n",
    "    sns.barplot(x=\"cpuDelta\",y=\"system_delta\",data=df)\n",
    "    plt.show()\n",
    "    count=count+1"
   ]
  },
  {
   "cell_type": "code",
   "execution_count": null,
   "metadata": {},
   "outputs": [],
   "source": []
  },
  {
   "cell_type": "code",
   "execution_count": null,
   "metadata": {},
   "outputs": [],
   "source": []
  },
  {
   "cell_type": "code",
   "execution_count": null,
   "metadata": {},
   "outputs": [],
   "source": []
  },
  {
   "cell_type": "code",
   "execution_count": null,
   "metadata": {},
   "outputs": [],
   "source": [
    "deltaCpu=df[\"cpuDelta\"]\n",
    "print(deltaCpu,\"\\n\")\n",
    "\n",
    "deltaSystem=df[\"system_delta\"]\n",
    "print(deltaSystem,\"\\n\\n\")\n",
    "\n"
   ]
  },
  {
   "cell_type": "code",
   "execution_count": 44,
   "metadata": {},
   "outputs": [
    {
     "data": {
      "image/png": "[encoded data removed]",
      "text/plain": [
       "<Figure size 936x432 with 1 Axes>"
      ]
     },
     "metadata": {},
     "output_type": "display_data"
    }
   ],
   "source": []
  },
  {
   "cell_type": "code",
   "execution_count": null,
   "metadata": {},
   "outputs": [],
   "source": []
  },
  {
   "cell_type": "code",
   "execution_count": null,
   "metadata": {},
   "outputs": [],
   "source": []
  },
  {
   "cell_type": "code",
   "execution_count": null,
   "metadata": {},
   "outputs": [],
   "source": []
  },
  {
   "cell_type": "code",
   "execution_count": null,
   "metadata": {},
   "outputs": [],
   "source": [
    "# this is for bar graph\n",
    "\n",
    "for i in range(len(df[\"cpu_calculation\"])):\n",
    "    time.sleep(0.2)\n",
    "    #plt.xlabel(\"Inspiring bardeen container\")\n",
    "    plt.xlabel(\"CPU delta\")\n",
    "    plt.title(\"Cpu Usuage Percentage\")\n",
    "    display.clear_output(wait=True)\n",
    "    plt.ylabel(\"System Delta\")\n",
    "    x=df[\"cpuDelta\"][i]\n",
    "    y=df[\"system_delta\"][i]\n",
    "\n",
    "    #x=[\"Cont1\",\"cont2\"]\n",
    "        \n",
    "    z=df[\"cpu_calculation\"][i]\n",
    "    color=(0.2, 0.4, 0.6, 0.6)\n",
    "    plt.bar(x,y,data=z)\n",
    "    plt.show()"
   ]
  },
  {
   "cell_type": "code",
   "execution_count": 43,
   "metadata": {},
   "outputs": [
    {
     "data": {
      "image/png": "[encoded data removed]",
      "text/plain": [
       "<Figure size 1080x1080 with 1 Axes>"
      ]
     },
     "metadata": {},
     "output_type": "display_data"
    }
   ],
   "source": [
    "# for the scatter graph\n",
    "\n",
    "\n",
    "for i in range(len(df[\"cpu_calculation\"])):\n",
    "    time.sleep(0.2)\n",
    "    display.clear_output(wait=True)\n",
    "\n",
    "    plt.figure( figsize = ( 15,15 ) )\n",
    "\n",
    "    #plt.xlabel(\"Inspiring bardeen container\")\n",
    "    plt.xlabel(\"CPU delta\")\n",
    "    plt.title(\"Cpu Usuage Percentage\")\n",
    "    plt.ylabel(\"System Delta\")\n",
    "    x=df[\"cpuDelta\"][i]\n",
    "    y=df[\"system_delta\"][i]\n",
    "    \n",
    "    #x=[\"Cont1\",\"cont2\"]\n",
    "    \n",
    "    z=df[\"cpu_calculation\"][i]\n",
    "    color=['green','blue','red']\n",
    "    plt.ylim(y)\n",
    "    plt.xlim(x)\n",
    "    plt.xlim(left=0,right=2*x)\n",
    "    plt.ylim(0,2*y)\n",
    "\n",
    "\n",
    "    plt.scatter(x,y,data=z,s=z)\n",
    "    plt.show()\n",
    "    "
   ]
  },
  {
   "cell_type": "code",
   "execution_count": 45,
   "metadata": {},
   "outputs": [
    {
     "data": {
      "image/png": "[encoded data removed]",
      "text/plain": [
       "<Figure size 936x432 with 1 Axes>"
      ]
     },
     "metadata": {},
     "output_type": "display_data"
    }
   ],
   "source": [
    "# this is a try to plot a continuous monitoring graph \n",
    "plt.style.use('ggplot')\n",
    "plt.ion()\n",
    "\n",
    "fig = plt.figure(figsize=(13,6))\n",
    "ax = fig.add_subplot(111)\n",
    "        # create a variable for the line so we can later update it\n",
    "line1, = ax.plot(deltaCpu,deltaSystem,'-o',alpha=0.8)    \n",
    "plt.ylabel(\"System Delta\")\n",
    "plt.xlabel(\"cpu delta\")\n",
    "plt.title(\"Cpu Percentage\")\n",
    "\n",
    "line1.set_ydata(deltaSystem)\n",
    "plt.pause(0.5)\n"
   ]
  },
  {
   "cell_type": "code",
   "execution_count": null,
   "metadata": {},
   "outputs": [],
   "source": []
  },
  {
   "cell_type": "code",
   "execution_count": null,
   "metadata": {},
   "outputs": [],
   "source": []
  },
  {
   "cell_type": "code",
   "execution_count": null,
   "metadata": {},
   "outputs": [],
   "source": []
  },
  {
   "cell_type": "code",
   "execution_count": null,
   "metadata": {},
   "outputs": [],
   "source": []
  },
  {
   "cell_type": "code",
   "execution_count": null,
   "metadata": {},
   "outputs": [],
   "source": []
  },
  {
   "cell_type": "code",
   "execution_count": null,
   "metadata": {},
   "outputs": [],
   "source": []
  },
  {
   "cell_type": "code",
   "execution_count": null,
   "metadata": {},
   "outputs": [],
   "source": []
  },
  {
   "cell_type": "code",
   "execution_count": null,
   "metadata": {},
   "outputs": [],
   "source": []
  },
  {
   "cell_type": "code",
   "execution_count": null,
   "metadata": {},
   "outputs": [],
   "source": []
  },
  {
   "cell_type": "code",
   "execution_count": null,
   "metadata": {},
   "outputs": [],
   "source": []
  },
  {
   "cell_type": "code",
   "execution_count": null,
   "metadata": {},
   "outputs": [],
   "source": []
  },
  {
   "cell_type": "code",
   "execution_count": null,
   "metadata": {},
   "outputs": [],
   "source": []
  },
  {
   "cell_type": "code",
   "execution_count": null,
   "metadata": {},
   "outputs": [],
   "source": []
  },
  {
   "cell_type": "code",
   "execution_count": null,
   "metadata": {},
   "outputs": [],
   "source": []
  },
  {
   "cell_type": "code",
   "execution_count": null,
   "metadata": {},
   "outputs": [],
   "source": []
  },
  {
   "cell_type": "code",
   "execution_count": null,
   "metadata": {},
   "outputs": [],
   "source": []
  },
  {
   "cell_type": "code",
   "execution_count": null,
   "metadata": {},
   "outputs": [],
   "source": []
  },
  {
   "cell_type": "code",
   "execution_count": null,
   "metadata": {},
   "outputs": [],
   "source": []
  },
  {
   "cell_type": "code",
   "execution_count": null,
   "metadata": {},
   "outputs": [],
   "source": []
  },
  {
   "cell_type": "code",
   "execution_count": null,
   "metadata": {},
   "outputs": [],
   "source": []
  },
  {
   "cell_type": "code",
   "execution_count": null,
   "metadata": {},
   "outputs": [],
   "source": []
  }
 ],
 "metadata": {
  "kernelspec": {
   "display_name": "Python 3",
   "language": "python",
   "name": "python3"
  },
  "language_info": {
   "codemirror_mode": {
    "name": "ipython",
    "version": 3
   },
   "file_extension": ".py",
   "mimetype": "text/x-python",
   "name": "python",
   "nbconvert_exporter": "python",
   "pygments_lexer": "ipython3",
   "version": "3.5.2"
  }
 },
 "nbformat": 4,
 "nbformat_minor": 2
}
